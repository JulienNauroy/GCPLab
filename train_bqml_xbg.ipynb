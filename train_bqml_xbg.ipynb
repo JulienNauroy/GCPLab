{
 "cells": [
  {
   "cell_type": "markdown",
   "metadata": {
    "colab_type": "text",
    "id": "aklJxkHBD5aR"
   },
   "source": [
    "# Predicting using BigQuery ML & XGBoost\n",
    "\n",
    "This notebook illustrates:\n",
    "<ol>\n",
    "<li> Machine Learning using BigQuery\n",
    "<li> Jupyter Magic for BigQuery in Cloud Datalab\n",
    "</ol>\n",
    "\n",
    "Please see [this notebook](1_explore.ipynb) for more context on this problem and how the features were chosen."
   ]
  },
  {
   "cell_type": "code",
   "execution_count": 170,
   "metadata": {
    "colab": {
     "autoexec": {
      "startup": false,
      "wait_interval": 0
     }
    },
    "colab_type": "code",
    "id": "BhUiclqCD5aT"
   },
   "outputs": [],
   "source": [
    "# change these to try this notebook out\n",
    "PROJECT = 'demoairenault'\n",
    "REGION = 'europe-west1'"
   ]
  },
  {
   "cell_type": "code",
   "execution_count": 73,
   "metadata": {
    "colab": {
     "autoexec": {
      "startup": false,
      "wait_interval": 0
     }
    },
    "colab_type": "code",
    "id": "F10_KsX7D5aX"
   },
   "outputs": [],
   "source": [
    "import os\n",
    "os.environ['PROJECT'] = PROJECT\n",
    "os.environ['REGION'] = REGION"
   ]
  },
  {
   "cell_type": "code",
   "execution_count": 74,
   "metadata": {
    "colab": {
     "autoexec": {
      "startup": false,
      "wait_interval": 0
     }
    },
    "colab_type": "code",
    "id": "YrqwSv6vD5aZ",
    "outputId": "402ed11b-ab4a-4480-a1aa-f72741cd2cc1"
   },
   "outputs": [
    {
     "name": "stderr",
     "output_type": "stream",
     "text": [
      "Updated property [core/project].\n",
      "WARNING: You do not appear to have access to project [demoairenault] or it does not exist.\n",
      "Updated property [compute/region].\n"
     ]
    }
   ],
   "source": [
    "%%bash\n",
    "gcloud config set project $PROJECT\n",
    "gcloud config set compute/region $REGION"
   ]
  },
  {
   "cell_type": "markdown",
   "metadata": {
    "colab_type": "text",
    "id": "j782YaAzD5ae"
   },
   "source": [
    "## Exploring the Data\n",
    "\n",
    "Here, we will be taking natality data and training on features to predict the birth weight.\n",
    "\n",
    "The CDC's Natality data has details on US births from 1969 to 2008 and is available in BigQuery as a public data set. More details: https://bigquery.cloud.google.com/table/publicdata:samples.natality?tab=details\n",
    "\n",
    "Lets start by looking at the data since 2000 with useful values > 0!"
   ]
  },
  {
   "cell_type": "code",
   "execution_count": 128,
   "metadata": {
    "colab": {
     "autoexec": {
      "startup": false,
      "wait_interval": 0
     }
    },
    "colab_type": "code",
    "id": "odWaIcLdD5af",
    "outputId": "2654ad9b-a735-4cd3-c3d9-80ebed8ed6bf"
   },
   "outputs": [],
   "source": [
    "%%bigquery df\n",
    "WITH DATA AS\n",
    "(SELECT \n",
    "       MOD(JOBID,4) AS HASH_JOBID, VERSION, PERFORMANCE, PRECISION, MPLINK, NTNU, MPLINK_NTNU,\n",
    "       MBS, RUNEND, TIMESTEP, NBNODES, NBELEM1D, NBELEM2D,\n",
    "       NBELEM3D, CLUSTER, NBSERVERS, NBCORE, DATACHECK_TIME,\n",
    "       ELAPSEDTIME\n",
    "FROM\n",
    "  `demoairenault.challenge.training_data`)\n",
    "\n",
    "SELECT * FROM DATA WHERE HASH_JOBID >0"
   ]
  },
  {
   "cell_type": "code",
   "execution_count": 129,
   "metadata": {},
   "outputs": [
    {
     "data": {
      "text/html": [
       "<div>\n",
       "<style scoped>\n",
       "    .dataframe tbody tr th:only-of-type {\n",
       "        vertical-align: middle;\n",
       "    }\n",
       "\n",
       "    .dataframe tbody tr th {\n",
       "        vertical-align: top;\n",
       "    }\n",
       "\n",
       "    .dataframe thead th {\n",
       "        text-align: right;\n",
       "    }\n",
       "</style>\n",
       "<table border=\"1\" class=\"dataframe\">\n",
       "  <thead>\n",
       "    <tr style=\"text-align: right;\">\n",
       "      <th></th>\n",
       "      <th>HASH_JOBID</th>\n",
       "      <th>VERSION</th>\n",
       "      <th>PERFORMANCE</th>\n",
       "      <th>PRECISION</th>\n",
       "      <th>MPLINK</th>\n",
       "      <th>NTNU</th>\n",
       "      <th>MPLINK_NTNU</th>\n",
       "      <th>MBS</th>\n",
       "      <th>RUNEND</th>\n",
       "      <th>TIMESTEP</th>\n",
       "      <th>NBNODES</th>\n",
       "      <th>NBELEM1D</th>\n",
       "      <th>NBELEM2D</th>\n",
       "      <th>NBELEM3D</th>\n",
       "      <th>CLUSTER</th>\n",
       "      <th>NBSERVERS</th>\n",
       "      <th>NBCORE</th>\n",
       "      <th>DATACHECK_TIME</th>\n",
       "      <th>ELAPSEDTIME</th>\n",
       "    </tr>\n",
       "  </thead>\n",
       "  <tbody>\n",
       "    <tr>\n",
       "      <th>0</th>\n",
       "      <td>3</td>\n",
       "      <td>2018.0.1</td>\n",
       "      <td>POLE</td>\n",
       "      <td>1</td>\n",
       "      <td>YES</td>\n",
       "      <td>NO</td>\n",
       "      <td>NO</td>\n",
       "      <td>NO</td>\n",
       "      <td>110.01</td>\n",
       "      <td>0.0005</td>\n",
       "      <td>4507694</td>\n",
       "      <td>14570</td>\n",
       "      <td>4037272</td>\n",
       "      <td>1570802</td>\n",
       "      <td>HPC3</td>\n",
       "      <td>8.0</td>\n",
       "      <td>288</td>\n",
       "      <td>446.0</td>\n",
       "      <td>15600</td>\n",
       "    </tr>\n",
       "    <tr>\n",
       "      <th>1</th>\n",
       "      <td>3</td>\n",
       "      <td>2018.0.1</td>\n",
       "      <td>POLE</td>\n",
       "      <td>1</td>\n",
       "      <td>YES</td>\n",
       "      <td>NO</td>\n",
       "      <td>NO</td>\n",
       "      <td>NO</td>\n",
       "      <td>110.01</td>\n",
       "      <td>0.0005</td>\n",
       "      <td>4507694</td>\n",
       "      <td>14570</td>\n",
       "      <td>4037272</td>\n",
       "      <td>1570802</td>\n",
       "      <td>HPC3</td>\n",
       "      <td>8.0</td>\n",
       "      <td>288</td>\n",
       "      <td>446.0</td>\n",
       "      <td>14600</td>\n",
       "    </tr>\n",
       "    <tr>\n",
       "      <th>2</th>\n",
       "      <td>3</td>\n",
       "      <td>2018.0.1</td>\n",
       "      <td>POLE</td>\n",
       "      <td>1</td>\n",
       "      <td>YES</td>\n",
       "      <td>NO</td>\n",
       "      <td>NO</td>\n",
       "      <td>NO</td>\n",
       "      <td>110.01</td>\n",
       "      <td>0.0005</td>\n",
       "      <td>4507694</td>\n",
       "      <td>14570</td>\n",
       "      <td>4037272</td>\n",
       "      <td>1570802</td>\n",
       "      <td>HPC3</td>\n",
       "      <td>8.0</td>\n",
       "      <td>288</td>\n",
       "      <td>446.0</td>\n",
       "      <td>15600</td>\n",
       "    </tr>\n",
       "    <tr>\n",
       "      <th>3</th>\n",
       "      <td>3</td>\n",
       "      <td>2018.0.1</td>\n",
       "      <td>POLE</td>\n",
       "      <td>1</td>\n",
       "      <td>YES</td>\n",
       "      <td>NO</td>\n",
       "      <td>NO</td>\n",
       "      <td>NO</td>\n",
       "      <td>110.01</td>\n",
       "      <td>0.0005</td>\n",
       "      <td>4507694</td>\n",
       "      <td>14570</td>\n",
       "      <td>4037272</td>\n",
       "      <td>1570802</td>\n",
       "      <td>HPC3</td>\n",
       "      <td>8.0</td>\n",
       "      <td>288</td>\n",
       "      <td>446.0</td>\n",
       "      <td>14600</td>\n",
       "    </tr>\n",
       "    <tr>\n",
       "      <th>4</th>\n",
       "      <td>2</td>\n",
       "      <td>2018.0.1</td>\n",
       "      <td>PEDESTRIAN</td>\n",
       "      <td>1</td>\n",
       "      <td>NO</td>\n",
       "      <td>NO</td>\n",
       "      <td>NO</td>\n",
       "      <td>NO</td>\n",
       "      <td>40.68</td>\n",
       "      <td>0.0005</td>\n",
       "      <td>1647532</td>\n",
       "      <td>3760</td>\n",
       "      <td>1673587</td>\n",
       "      <td>103822</td>\n",
       "      <td>HPC3</td>\n",
       "      <td>1.0</td>\n",
       "      <td>36</td>\n",
       "      <td>74.7</td>\n",
       "      <td>4510</td>\n",
       "    </tr>\n",
       "  </tbody>\n",
       "</table>\n",
       "</div>"
      ],
      "text/plain": [
       "   HASH_JOBID   VERSION PERFORMANCE  PRECISION MPLINK NTNU MPLINK_NTNU MBS  \\\n",
       "0           3  2018.0.1        POLE          1    YES   NO          NO  NO   \n",
       "1           3  2018.0.1        POLE          1    YES   NO          NO  NO   \n",
       "2           3  2018.0.1        POLE          1    YES   NO          NO  NO   \n",
       "3           3  2018.0.1        POLE          1    YES   NO          NO  NO   \n",
       "4           2  2018.0.1  PEDESTRIAN          1     NO   NO          NO  NO   \n",
       "\n",
       "   RUNEND  TIMESTEP  NBNODES  NBELEM1D  NBELEM2D  NBELEM3D CLUSTER  NBSERVERS  \\\n",
       "0  110.01    0.0005  4507694     14570   4037272   1570802    HPC3        8.0   \n",
       "1  110.01    0.0005  4507694     14570   4037272   1570802    HPC3        8.0   \n",
       "2  110.01    0.0005  4507694     14570   4037272   1570802    HPC3        8.0   \n",
       "3  110.01    0.0005  4507694     14570   4037272   1570802    HPC3        8.0   \n",
       "4   40.68    0.0005  1647532      3760   1673587    103822    HPC3        1.0   \n",
       "\n",
       "   NBCORE  DATACHECK_TIME  ELAPSEDTIME  \n",
       "0     288           446.0        15600  \n",
       "1     288           446.0        14600  \n",
       "2     288           446.0        15600  \n",
       "3     288           446.0        14600  \n",
       "4      36            74.7         4510  "
      ]
     },
     "execution_count": 129,
     "metadata": {},
     "output_type": "execute_result"
    }
   ],
   "source": [
    "df.head()"
   ]
  },
  {
   "cell_type": "markdown",
   "metadata": {
    "colab_type": "text",
    "id": "H-d7C8KcD5am"
   },
   "source": [
    "## Train Model\n",
    "\n",
    "With the relevant columns chosen to accomplish predictions, it is then possible to create (train) the model in BigQuery. First, a dataset will be needed store the model. (if this throws an error in Datalab, simply create the dataset from the BigQuery console)."
   ]
  },
  {
   "cell_type": "code",
   "execution_count": 38,
   "metadata": {
    "colab": {
     "autoexec": {
      "startup": false,
      "wait_interval": 0
     }
    },
    "colab_type": "code",
    "id": "bWMZJQdKD5an"
   },
   "outputs": [
    {
     "name": "stdout",
     "output_type": "stream",
     "text": [
      "Dataset 'demoairenault:demo' successfully created.\n"
     ]
    }
   ],
   "source": [
    "%%bash\n",
    "bq --location=EU mk -d demo"
   ]
  },
  {
   "cell_type": "markdown",
   "metadata": {
    "colab_type": "text",
    "id": "T9JZIQ9nD5ap"
   },
   "source": [
    "With the demo dataset ready, it is possible to create a linear regression model to train the model.\n",
    "\n",
    "This will take approximately **4 minutes** to run and will show **Done** when complete."
   ]
  },
  {
   "cell_type": "code",
   "execution_count": null,
   "metadata": {
    "colab": {
     "autoexec": {
      "startup": false,
      "wait_interval": 0
     }
    },
    "colab_type": "code",
    "id": "V-UJOX0tD5aq",
    "outputId": "63aa219c-a14f-4db5-a271-2e614759fe1a"
   },
   "outputs": [
    {
     "name": "stdout",
     "output_type": "stream",
     "text": [
      "Executing query with job ID: e7d07ccb-8ece-4dd7-8c61-544f63260eb2\n",
      "Query executing: 451.75s"
     ]
    }
   ],
   "source": [
    "%%bigquery model\n",
    "CREATE or REPLACE MODEL demo.xgboost_model\n",
    "TRANSFORM( ML.STANDARD_SCALER(PRECISION) OVER() AS PRECISION,\n",
    "           ML.STANDARD_SCALER(RUNEND) OVER() AS RUNEND,\n",
    "           ML.STANDARD_SCALER(TIMESTEP) OVER() AS TIMESTEP,\n",
    "           ML.STANDARD_SCALER(NBNODES) OVER() AS NBNODES,\n",
    "           ML.STANDARD_SCALER(NBELEM1D) OVER() AS NBELEM1D,\n",
    "           ML.STANDARD_SCALER(NBELEM2D) OVER() AS NBELEM2D,\n",
    "           ML.STANDARD_SCALER(NBELEM3D) OVER() AS NBELEM3D,\n",
    "           ML.STANDARD_SCALER(NBSERVERS) OVER() AS NBSERVERS,\n",
    "           ML.STANDARD_SCALER(NBCORE) OVER() AS NBCORE,\n",
    "           ML.STANDARD_SCALER(DATACHECK_TIME) OVER() AS DATACHECK_TIME,\n",
    "           VERSION,\n",
    "           PERFORMANCE,\n",
    "           MPLINK,\n",
    "           NTNU,\n",
    "           MPLINK_NTNU,\n",
    "           MBS,\n",
    "           CLUSTER,\n",
    "           ML.FEATURE_CROSS(STRUCT(PERFORMANCE, MPLINK, NTNU, CLUSTER)) AS CROSS_F,\n",
    "           ELAPSEDTIME)\n",
    "OPTIONS(MODEL_TYPE='BOOSTED_TREE_REGRESSOR',\n",
    "        BOOSTER_TYPE = 'GBTREE',\n",
    "        L1_REG = 0.1,\n",
    "        L2_REG = 0.01,\n",
    "        NUM_PARALLEL_TREE = 1,\n",
    "        MAX_ITERATIONS = 150,\n",
    "        TREE_METHOD = 'HIST',\n",
    "        EARLY_STOP = FALSE,\n",
    "        SUBSAMPLE = 0.85,\n",
    "        INPUT_LABEL_COLS = ['ELAPSEDTIME'])\n",
    "AS \n",
    "SELECT \n",
    "       *\n",
    "FROM\n",
    "  `demoairenault.challenge.training_data`\n",
    "WHERE MOD(JOBID,4)<3 \n",
    "\n"
   ]
  },
  {
   "cell_type": "markdown",
   "metadata": {
    "colab_type": "text",
    "id": "mJYtGxWyD5at"
   },
   "source": [
    "## Training Statistics"
   ]
  },
  {
   "cell_type": "markdown",
   "metadata": {
    "colab_type": "text",
    "id": "0L92s-gtD5au"
   },
   "source": [
    "During the model training (and after the training), it is possible to see the model's training evaluation statistics.\n",
    "\n",
    "For each training run, a table named `<model_name>_eval` is created. This table has basic performance statistics for each iteration.\n",
    "\n",
    "While the new model is training, review the training statistics in the BigQuery UI to see the below model training: https://bigquery.cloud.google.com/\n",
    "\n",
    "Since these statistics are updated after each iteration of model training, you will see different values for each refresh while the model is training.\n",
    "\n",
    "The training details may also be viewed after the training completes from this notebook."
   ]
  },
  {
   "cell_type": "code",
   "execution_count": 169,
   "metadata": {
    "colab": {
     "autoexec": {
      "startup": false,
      "wait_interval": 0
     }
    },
    "colab_type": "code",
    "id": "ZbV6aDcRD5au",
    "outputId": "9518b192-2f7f-4b69-e612-2e3068f9925c"
   },
   "outputs": [
    {
     "data": {
      "text/html": [
       "<div>\n",
       "<style scoped>\n",
       "    .dataframe tbody tr th:only-of-type {\n",
       "        vertical-align: middle;\n",
       "    }\n",
       "\n",
       "    .dataframe tbody tr th {\n",
       "        vertical-align: top;\n",
       "    }\n",
       "\n",
       "    .dataframe thead th {\n",
       "        text-align: right;\n",
       "    }\n",
       "</style>\n",
       "<table border=\"1\" class=\"dataframe\">\n",
       "  <thead>\n",
       "    <tr style=\"text-align: right;\">\n",
       "      <th></th>\n",
       "      <th>training_run</th>\n",
       "      <th>iteration</th>\n",
       "      <th>loss</th>\n",
       "      <th>eval_loss</th>\n",
       "      <th>learning_rate</th>\n",
       "      <th>duration_ms</th>\n",
       "    </tr>\n",
       "  </thead>\n",
       "  <tbody>\n",
       "    <tr>\n",
       "      <th>0</th>\n",
       "      <td>0</td>\n",
       "      <td>150</td>\n",
       "      <td>3124.81</td>\n",
       "      <td>7473.44</td>\n",
       "      <td>0.3</td>\n",
       "      <td>39</td>\n",
       "    </tr>\n",
       "    <tr>\n",
       "      <th>1</th>\n",
       "      <td>0</td>\n",
       "      <td>149</td>\n",
       "      <td>3125.97</td>\n",
       "      <td>7475.68</td>\n",
       "      <td>0.3</td>\n",
       "      <td>39</td>\n",
       "    </tr>\n",
       "    <tr>\n",
       "      <th>2</th>\n",
       "      <td>0</td>\n",
       "      <td>148</td>\n",
       "      <td>3131.44</td>\n",
       "      <td>7469.50</td>\n",
       "      <td>0.3</td>\n",
       "      <td>37</td>\n",
       "    </tr>\n",
       "    <tr>\n",
       "      <th>3</th>\n",
       "      <td>0</td>\n",
       "      <td>147</td>\n",
       "      <td>3135.60</td>\n",
       "      <td>7468.20</td>\n",
       "      <td>0.3</td>\n",
       "      <td>46</td>\n",
       "    </tr>\n",
       "    <tr>\n",
       "      <th>4</th>\n",
       "      <td>0</td>\n",
       "      <td>146</td>\n",
       "      <td>3137.13</td>\n",
       "      <td>7465.61</td>\n",
       "      <td>0.3</td>\n",
       "      <td>34</td>\n",
       "    </tr>\n",
       "    <tr>\n",
       "      <th>...</th>\n",
       "      <td>...</td>\n",
       "      <td>...</td>\n",
       "      <td>...</td>\n",
       "      <td>...</td>\n",
       "      <td>...</td>\n",
       "      <td>...</td>\n",
       "    </tr>\n",
       "    <tr>\n",
       "      <th>145</th>\n",
       "      <td>0</td>\n",
       "      <td>5</td>\n",
       "      <td>8460.46</td>\n",
       "      <td>8835.19</td>\n",
       "      <td>0.3</td>\n",
       "      <td>50</td>\n",
       "    </tr>\n",
       "    <tr>\n",
       "      <th>146</th>\n",
       "      <td>0</td>\n",
       "      <td>4</td>\n",
       "      <td>9855.47</td>\n",
       "      <td>10020.30</td>\n",
       "      <td>0.3</td>\n",
       "      <td>46</td>\n",
       "    </tr>\n",
       "    <tr>\n",
       "      <th>147</th>\n",
       "      <td>0</td>\n",
       "      <td>3</td>\n",
       "      <td>12141.30</td>\n",
       "      <td>12115.10</td>\n",
       "      <td>0.3</td>\n",
       "      <td>47</td>\n",
       "    </tr>\n",
       "    <tr>\n",
       "      <th>148</th>\n",
       "      <td>0</td>\n",
       "      <td>2</td>\n",
       "      <td>15621.30</td>\n",
       "      <td>15412.60</td>\n",
       "      <td>0.3</td>\n",
       "      <td>51</td>\n",
       "    </tr>\n",
       "    <tr>\n",
       "      <th>149</th>\n",
       "      <td>0</td>\n",
       "      <td>1</td>\n",
       "      <td>20766.80</td>\n",
       "      <td>20470.30</td>\n",
       "      <td>0.3</td>\n",
       "      <td>147308</td>\n",
       "    </tr>\n",
       "  </tbody>\n",
       "</table>\n",
       "<p>150 rows × 6 columns</p>\n",
       "</div>"
      ],
      "text/plain": [
       "     training_run  iteration      loss  eval_loss  learning_rate  duration_ms\n",
       "0               0        150   3124.81    7473.44            0.3           39\n",
       "1               0        149   3125.97    7475.68            0.3           39\n",
       "2               0        148   3131.44    7469.50            0.3           37\n",
       "3               0        147   3135.60    7468.20            0.3           46\n",
       "4               0        146   3137.13    7465.61            0.3           34\n",
       "..            ...        ...       ...        ...            ...          ...\n",
       "145             0          5   8460.46    8835.19            0.3           50\n",
       "146             0          4   9855.47   10020.30            0.3           46\n",
       "147             0          3  12141.30   12115.10            0.3           47\n",
       "148             0          2  15621.30   15412.60            0.3           51\n",
       "149             0          1  20766.80   20470.30            0.3       147308\n",
       "\n",
       "[150 rows x 6 columns]"
      ]
     },
     "execution_count": 169,
     "metadata": {},
     "output_type": "execute_result"
    }
   ],
   "source": [
    "%%bigquery\n",
    "SELECT * FROM ML.TRAINING_INFO(MODEL demo.xgboost_model);"
   ]
  },
  {
   "cell_type": "markdown",
   "metadata": {
    "colab_type": "text",
    "id": "CATWu60vD5ay"
   },
   "source": [
    "Some of these columns are obvious although what do the non-specific ML columns mean (specific to BQML)?\n",
    "\n",
    "**training_run** - Will be zero for a newly created model. If the model is re-trained using warm_start, this will increment for each re-training.\n",
    "\n",
    "**iteration** - Number of the associated `training_run`, starting with zero for the first iteration.\n",
    "\n",
    "**duration_ms** - Indicates how long the iteration took (in ms).\n",
    "\n",
    "Note: You can also see these stats by refreshing the BigQuery UI window, finding the `<model_name>` table, selecting on it, and then the Training Stats sub-header.\n",
    "\n",
    "Let's plot the training and evaluation loss to see if the model has an overfit."
   ]
  },
  {
   "cell_type": "markdown",
   "metadata": {
    "colab_type": "text",
    "id": "Add--LfeD5a2"
   },
   "source": [
    "As you can see, the training loss and evaluation loss are essentially identical. We do not seem to be overfitting."
   ]
  },
  {
   "cell_type": "markdown",
   "metadata": {
    "colab_type": "text",
    "id": "9QPwMA_ZD5a3"
   },
   "source": [
    "## Model Evaluation with BQML using the Model"
   ]
  },
  {
   "cell_type": "markdown",
   "metadata": {
    "colab_type": "text",
    "id": "9QBZxMb6D5a5"
   },
   "source": [
    "With a trained model, it is now possible to make a prediction on the values. The only difference from the second query above is the reference to the model. The data has been limited (`LIMIT 100`) to reduce amount of data returned.\n",
    "\n",
    "When the `ml.predict` function is leveraged, output prediction column name for the model is `predicted_<label_column_name>`."
   ]
  },
  {
   "cell_type": "code",
   "execution_count": 171,
   "metadata": {
    "colab": {
     "autoexec": {
      "startup": false,
      "wait_interval": 0
     }
    },
    "colab_type": "code",
    "id": "x-hedqSeD5a6",
    "outputId": "e9bbeb43-900c-420a-8520-2feeccf79239"
   },
   "outputs": [
    {
     "data": {
      "text/html": [
       "<div>\n",
       "<style scoped>\n",
       "    .dataframe tbody tr th:only-of-type {\n",
       "        vertical-align: middle;\n",
       "    }\n",
       "\n",
       "    .dataframe tbody tr th {\n",
       "        vertical-align: top;\n",
       "    }\n",
       "\n",
       "    .dataframe thead th {\n",
       "        text-align: right;\n",
       "    }\n",
       "</style>\n",
       "<table border=\"1\" class=\"dataframe\">\n",
       "  <thead>\n",
       "    <tr style=\"text-align: right;\">\n",
       "      <th></th>\n",
       "      <th>mean_absolute_error</th>\n",
       "      <th>mean_squared_error</th>\n",
       "      <th>mean_squared_log_error</th>\n",
       "      <th>median_absolute_error</th>\n",
       "      <th>r2_score</th>\n",
       "      <th>explained_variance</th>\n",
       "    </tr>\n",
       "  </thead>\n",
       "  <tbody>\n",
       "    <tr>\n",
       "      <th>0</th>\n",
       "      <td>3179.229523</td>\n",
       "      <td>3.524114e+07</td>\n",
       "      <td>0.075497</td>\n",
       "      <td>1597.097656</td>\n",
       "      <td>0.899408</td>\n",
       "      <td>0.910791</td>\n",
       "    </tr>\n",
       "  </tbody>\n",
       "</table>\n",
       "</div>"
      ],
      "text/plain": [
       "   mean_absolute_error  mean_squared_error  mean_squared_log_error  \\\n",
       "0          3179.229523        3.524114e+07                0.075497   \n",
       "\n",
       "   median_absolute_error  r2_score  explained_variance  \n",
       "0            1597.097656  0.899408            0.910791  "
      ]
     },
     "execution_count": 171,
     "metadata": {},
     "output_type": "execute_result"
    }
   ],
   "source": [
    "%%bigquery\n",
    "SELECT\n",
    "  *\n",
    "FROM\n",
    "  ml.EVALUATE(MODEL demo.xgboost_model,\n",
    "(SELECT \n",
    "    *\n",
    "FROM\n",
    "  `demoairenault.challenge.training_data`\n",
    "WHERE MOD(JOBID,4) =3))"
   ]
  },
  {
   "cell_type": "code",
   "execution_count": 174,
   "metadata": {},
   "outputs": [],
   "source": [
    "%%bigquery data\n",
    "SELECT\n",
    "  *\n",
    "FROM\n",
    "  ml.PREDICT(MODEL demo.xgboost_model,\n",
    "(SELECT \n",
    "    *\n",
    "FROM\n",
    "  `demoairenault.challenge.training_data`\n",
    "WHERE MOD(JOBID,4) =0))\n",
    "    LIMIT 1000"
   ]
  },
  {
   "cell_type": "code",
   "execution_count": 175,
   "metadata": {},
   "outputs": [
    {
     "data": {
      "text/plain": [
       "<AxesSubplot:xlabel='ELAPSEDTIME', ylabel='ELAPSEDTIME'>"
      ]
     },
     "execution_count": 175,
     "metadata": {},
     "output_type": "execute_result"
    },
    {
     "data": {
      "image/png": "[encoded data removed]",
      "text/plain": [
       "<Figure size 1296x720 with 1 Axes>"
      ]
     },
     "metadata": {
      "needs_background": "light"
     },
     "output_type": "display_data"
    }
   ],
   "source": [
    "from matplotlib import pyplot\n",
    "import seaborn as sns\n",
    "fig, ax = pyplot.subplots()\n",
    "fig.set_size_inches(18, 10)\n",
    "sns.lineplot(x=\"ELAPSEDTIME\", y=\"ELAPSEDTIME\", data=data)\n",
    "sns.lineplot(x=\"ELAPSEDTIME\", y=\"predicted_ELAPSEDTIME\", data=data)"
   ]
  },
  {
   "cell_type": "code",
   "execution_count": null,
   "metadata": {},
   "outputs": [],
   "source": []
  }
 ],
 "metadata": {
  "colab": {
   "default_view": {},
   "name": "babyweight_bqml.ipynb",
   "provenance": [],
   "version": "0.3.2",
   "views": {}
  },
  "environment": {
   "name": "tf2-gpu.2-3.mnightly-2021-01-20-debian-10-test",
   "type": "gcloud",
   "uri": "gcr.io/deeplearning-platform-release/tf2-gpu.2-3:mnightly-2021-01-20-debian-10-test"
  },
  "kernelspec": {
   "display_name": "Python 3",
   "language": "python",
   "name": "python3"
  },
  "language_info": {
   "codemirror_mode": {
    "name": "ipython",
    "version": 3
   },
   "file_extension": ".py",
   "mimetype": "text/x-python",
   "name": "python",
   "nbconvert_exporter": "python",
   "pygments_lexer": "ipython3",
   "version": "3.7.9"
  }
 },
 "nbformat": 4,
 "nbformat_minor": 4
}
